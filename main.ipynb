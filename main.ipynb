{
  "nbformat": 4,
  "nbformat_minor": 0,
  "metadata": {
    "colab": {
      "provenance": []
    },
    "kernelspec": {
      "name": "python3",
      "display_name": "Python 3"
    },
    "language_info": {
      "name": "python"
    }
  },
  "cells": [
    {
      "cell_type": "code",
      "execution_count": null,
      "metadata": {
        "colab": {
          "base_uri": "https://localhost:8080/"
        },
        "id": "qD4jkQUk2EcU",
        "outputId": "02d843df-6edb-49ea-85ae-57010998ab8f"
      },
      "outputs": [
        {
          "output_type": "stream",
          "name": "stdout",
          "text": [
            "Mounted at /content/drive/\n"
          ]
        }
      ],
      "source": [
        "from google.colab import drive\n",
        "drive.mount('/content/drive/')"
      ]
    },
    {
      "cell_type": "code",
      "source": [
        "import string\n",
        "import pandas as pd\n",
        "import numpy as np\n",
        "import tensorflow as tf\n",
        "import matplotlib.pyplot as plt\n",
        "from tensorflow.keras.preprocessing.image import ImageDataGenerator"
      ],
      "metadata": {
        "id": "5PDIFYkH3T2z"
      },
      "execution_count": null,
      "outputs": []
    },
    {
      "cell_type": "code",
      "source": [
        "def load_data(path):\n",
        "  df = pd.read_csv(path)\n",
        "  y = np.array([label if label<9 else label-1 for label in df['label']])\n",
        "  df = df.drop('label', axis=1)\n",
        "  x = np.array([df.iloc[i].to_numpy().reshape((28,28)) for i in range(len(df))]).astype(float)\n",
        "  x = np.expand_dims(x,axis=3)\n",
        "  y = pd.get_dummies(y).values\n",
        "  return x,y\n",
        "\n",
        "X_train, Y_train = load_data('sign_mnist_train.csv')\n",
        "X_test, Y_test = load_data('sign_mnist_test.csv')"
      ],
      "metadata": {
        "id": "nGLdXMLy3T5J"
      },
      "execution_count": null,
      "outputs": []
    },
    {
      "cell_type": "code",
      "source": [
        "print(X_train.shape, Y_train.shape)\n",
        "print(X_test.shape, Y_test.shape)"
      ],
      "metadata": {
        "colab": {
          "base_uri": "https://localhost:8080/"
        },
        "id": "MVuieseV3T7w",
        "outputId": "f9cc7c01-a4ab-43fa-f112-f72be6205f2f"
      },
      "execution_count": null,
      "outputs": [
        {
          "output_type": "stream",
          "name": "stdout",
          "text": [
            "(27455, 28, 28, 1) (27455, 24)\n",
            "(7172, 28, 28, 1) (7172, 24)\n"
          ]
        }
      ]
    },
    {
      "cell_type": "code",
      "source": [
        "class_names = list(string.ascii_lowercase[:26].replace('j','').replace('z',''))\n",
        "plt.figure(figsize=(10,10))\n",
        "for i in range(10):\n",
        "  plt.subplot(5,5,i+1)\n",
        "  plt.xticks([])\n",
        "  plt.yticks([])\n",
        "  plt.grid(False)\n",
        "  plt.imshow(X_train[i].squeeze(), cmap=plt.cm.binary)\n",
        "  plt.xlabel(class_names[np.argmax(Y_train, axis=1)[i]])\n",
        "\n",
        "plt.tight_layout()\n",
        "plt.show()"
      ],
      "metadata": {
        "colab": {
          "base_uri": "https://localhost:8080/",
          "height": 374
        },
        "id": "qDwTpWWW3T-Q",
        "outputId": "438b3c56-ca04-4597-8297-b79a2f9d378c"
      },
      "execution_count": null,
      "outputs": [
        {
          "output_type": "display_data",
          "data": {
            "text/plain": [
              "<Figure size 1000x1000 with 10 Axes>"
            ],
            "image/png": "[encoded data removed]"
          },
          "metadata": {}
        }
      ]
    },
    {
      "cell_type": "code",
      "source": [
        "model = tf.keras.models.Sequential([\n",
        "    tf.keras.layers.Conv2D(filters=32,kernel_size=(3,3), activation='relu',input_shape=(28,28,1)),\n",
        "    tf.keras.layers.MaxPooling2D(2,2),\n",
        "    tf.keras.layers.Conv2D(filters=64,kernel_size=(3,3),activation='relu'),\n",
        "    tf.keras.layers.MaxPooling2D(2,2),\n",
        "\n",
        "    tf.keras.layers.Flatten(),\n",
        "    tf.keras.layers.BatchNormalization(),\n",
        "    tf.keras.layers.Dense(256,activation='relu'),\n",
        "    tf.keras.layers.Dropout(0.3),\n",
        "    tf.keras.layers.BatchNormalization(),\n",
        "    tf.keras.layers.Dense(24,activation='softmax')\n",
        "])"
      ],
      "metadata": {
        "id": "DcfuaQ4-3UA0"
      },
      "execution_count": null,
      "outputs": []
    },
    {
      "cell_type": "code",
      "source": [
        "model.summary()"
      ],
      "metadata": {
        "colab": {
          "base_uri": "https://localhost:8080/"
        },
        "id": "NB0IApRN3UDD",
        "outputId": "f5f54076-87eb-4038-cb0c-330bb15a2e17"
      },
      "execution_count": null,
      "outputs": [
        {
          "output_type": "stream",
          "name": "stdout",
          "text": [
            "Model: \"sequential\"\n",
            "_________________________________________________________________\n",
            " Layer (type)                Output Shape              Param #   \n",
            "=================================================================\n",
            " conv2d (Conv2D)             (None, 26, 26, 32)        320       \n",
            "                                                                 \n",
            " max_pooling2d (MaxPooling2  (None, 13, 13, 32)        0         \n",
            " D)                                                              \n",
            "                                                                 \n",
            " conv2d_1 (Conv2D)           (None, 11, 11, 64)        18496     \n",
            "                                                                 \n",
            " max_pooling2d_1 (MaxPoolin  (None, 5, 5, 64)          0         \n",
            " g2D)                                                            \n",
            "                                                                 \n",
            " flatten (Flatten)           (None, 1600)              0         \n",
            "                                                                 \n",
            " batch_normalization (Batch  (None, 1600)              6400      \n",
            " Normalization)                                                  \n",
            "                                                                 \n",
            " dense (Dense)               (None, 256)               409856    \n",
            "                                                                 \n",
            " dropout (Dropout)           (None, 256)               0         \n",
            "                                                                 \n",
            " batch_normalization_1 (Bat  (None, 256)               1024      \n",
            " chNormalization)                                                \n",
            "                                                                 \n",
            " dense_1 (Dense)             (None, 24)                6168      \n",
            "                                                                 \n",
            "=================================================================\n",
            "Total params: 442264 (1.69 MB)\n",
            "Trainable params: 438552 (1.67 MB)\n",
            "Non-trainable params: 3712 (14.50 KB)\n",
            "_________________________________________________________________\n"
          ]
        }
      ]
    },
    {
      "cell_type": "code",
      "source": [
        "train_datagen = ImageDataGenerator(rescale=1.0/255.0)  # You may need to add more augmentations\n",
        "validation_datagen = ImageDataGenerator(rescale=1.0/255.0)\n",
        "train_generator = train_datagen.flow(X_train, Y_train, batch_size=32)\n",
        "validation_generator = validation_datagen.flow(X_test, Y_test, batch_size=32)"
      ],
      "metadata": {
        "id": "tnxmcctH3UF4"
      },
      "execution_count": null,
      "outputs": []
    },
    {
      "cell_type": "code",
      "source": [
        "model.compile(optimizer='adam',loss='categorical_crossentropy',metrics=['accuracy'])"
      ],
      "metadata": {
        "id": "hvGJ3zuB3UIg"
      },
      "execution_count": null,
      "outputs": []
    },
    {
      "cell_type": "code",
      "source": [
        "history = model.fit(train_generator, validation_data=validation_generator,epochs=5,verbose=1)"
      ],
      "metadata": {
        "colab": {
          "base_uri": "https://localhost:8080/"
        },
        "id": "mJcIOZdF3UKv",
        "outputId": "13648c1c-8693-46c2-e9cd-4bb5d37ab3de"
      },
      "execution_count": null,
      "outputs": [
        {
          "output_type": "stream",
          "name": "stdout",
          "text": [
            "Epoch 1/5\n",
            "858/858 [==============================] - 40s 44ms/step - loss: 0.2455 - accuracy: 0.9373 - val_loss: 0.3921 - val_accuracy: 0.8776\n",
            "Epoch 2/5\n",
            "858/858 [==============================] - 38s 44ms/step - loss: 0.0098 - accuracy: 0.9993 - val_loss: 0.2792 - val_accuracy: 0.9262\n",
            "Epoch 3/5\n",
            "858/858 [==============================] - 37s 43ms/step - loss: 0.0299 - accuracy: 0.9925 - val_loss: 0.3523 - val_accuracy: 0.9009\n",
            "Epoch 4/5\n",
            "858/858 [==============================] - 36s 42ms/step - loss: 0.0052 - accuracy: 0.9992 - val_loss: 0.4375 - val_accuracy: 0.8903\n",
            "Epoch 5/5\n",
            "858/858 [==============================] - 36s 42ms/step - loss: 0.0103 - accuracy: 0.9974 - val_loss: 1.5395 - val_accuracy: 0.7455\n"
          ]
        }
      ]
    },
    {
      "cell_type": "code",
      "source": [
        "model.evaluate(validation_generator)"
      ],
      "metadata": {
        "colab": {
          "base_uri": "https://localhost:8080/"
        },
        "id": "0p5i4c8D3UM_",
        "outputId": "03cd1c5a-c3a5-46d1-9e63-672cec40238c"
      },
      "execution_count": null,
      "outputs": [
        {
          "output_type": "stream",
          "name": "stdout",
          "text": [
            "225/225 [==============================] - 2s 11ms/step - loss: 1.5395 - accuracy: 0.7455\n"
          ]
        },
        {
          "output_type": "execute_result",
          "data": {
            "text/plain": [
              "[1.5394537448883057, 0.7455381751060486]"
            ]
          },
          "metadata": {},
          "execution_count": 12
        }
      ]
    },
    {
      "cell_type": "code",
      "source": [
        "model.save('/content/drive/MyDrive/saved_models/abc.hdf5')"
      ],
      "metadata": {
        "colab": {
          "base_uri": "https://localhost:8080/"
        },
        "id": "JuRqY0ey3UPM",
        "outputId": "d1542589-3c07-411d-f6ef-6e16a01bd334"
      },
      "execution_count": null,
      "outputs": [
        {
          "output_type": "stream",
          "name": "stderr",
          "text": [
            "/usr/local/lib/python3.10/dist-packages/keras/src/engine/training.py:3103: UserWarning: You are saving your model as an HDF5 file via `model.save()`. This file format is considered legacy. We recommend using instead the native Keras format, e.g. `model.save('my_model.keras')`.\n",
            "  saving_api.save_model(\n"
          ]
        }
      ]
    }
  ]
}